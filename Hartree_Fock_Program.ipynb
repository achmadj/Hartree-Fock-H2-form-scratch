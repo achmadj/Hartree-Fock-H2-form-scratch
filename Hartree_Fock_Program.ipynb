{
 "cells": [
  {
   "cell_type": "code",
   "execution_count": 1,
   "metadata": {
    "code_folding": [
     0
    ]
   },
   "outputs": [],
   "source": [
    "#--Import Necessary Library--\n",
    "import sys\n",
    "import math\n",
    "import numpy as np\n",
    "from scipy import special\n",
    "from scipy import linalg\n",
    "import matplotlib.pyplot as plt\n",
    "import pandas as pd"
   ]
  },
  {
   "cell_type": "markdown",
   "metadata": {},
   "source": [
    "# 1. HF STO-nG, apakah perlu di ralat?\n",
    "R = 1.6 a.u<br>\n",
    "alpha dan coefficient untuk primitive gaussian dari https://www.basissetexchange.org"
   ]
  },
  {
   "cell_type": "code",
   "execution_count": 2,
   "metadata": {
    "code_folding": [
     0
    ]
   },
   "outputs": [
    {
     "data": {
      "text/html": [
       "<div>\n",
       "<style scoped>\n",
       "    .dataframe tbody tr th:only-of-type {\n",
       "        vertical-align: middle;\n",
       "    }\n",
       "\n",
       "    .dataframe tbody tr th {\n",
       "        vertical-align: top;\n",
       "    }\n",
       "\n",
       "    .dataframe thead th {\n",
       "        text-align: right;\n",
       "    }\n",
       "</style>\n",
       "<table border=\"1\" class=\"dataframe\">\n",
       "  <thead>\n",
       "    <tr style=\"text-align: right;\">\n",
       "      <th></th>\n",
       "      <th>HF STO-1G</th>\n",
       "      <th>HF STO-2G</th>\n",
       "      <th>HF STO-3G</th>\n",
       "    </tr>\n",
       "  </thead>\n",
       "  <tbody>\n",
       "    <tr>\n",
       "      <th>electron repulsion</th>\n",
       "      <td>0.662004</td>\n",
       "      <td>0.653383</td>\n",
       "      <td>0.654507</td>\n",
       "    </tr>\n",
       "    <tr>\n",
       "      <th>kinetic</th>\n",
       "      <td>1.085544</td>\n",
       "      <td>1.140385</td>\n",
       "      <td>1.179672</td>\n",
       "    </tr>\n",
       "    <tr>\n",
       "      <th>nuclear-electron attraction</th>\n",
       "      <td>-3.346420</td>\n",
       "      <td>-3.499821</td>\n",
       "      <td>-3.562320</td>\n",
       "    </tr>\n",
       "    <tr>\n",
       "      <th>nuclear repulsion</th>\n",
       "      <td>0.625000</td>\n",
       "      <td>0.625000</td>\n",
       "      <td>0.625000</td>\n",
       "    </tr>\n",
       "    <tr>\n",
       "      <th>total energy</th>\n",
       "      <td>-0.973873</td>\n",
       "      <td>-1.081053</td>\n",
       "      <td>-1.103141</td>\n",
       "    </tr>\n",
       "  </tbody>\n",
       "</table>\n",
       "</div>"
      ],
      "text/plain": [
       "                             HF STO-1G  HF STO-2G  HF STO-3G\n",
       "electron repulsion            0.662004   0.653383   0.654507\n",
       "kinetic                       1.085544   1.140385   1.179672\n",
       "nuclear-electron attraction  -3.346420  -3.499821  -3.562320\n",
       "nuclear repulsion             0.625000   0.625000   0.625000\n",
       "total energy                 -0.973873  -1.081053  -1.103141"
      ]
     },
     "execution_count": 2,
     "metadata": {},
     "output_type": "execute_result"
    }
   ],
   "source": [
    "# HF STO-nG\n",
    "Vee = [0.6620037441341327, 0.6533831353864948, 0.6545069801998092]\n",
    "T = [1.085544019466817, 1.1403847798313982, 1.1796724544828034]\n",
    "Vne = [-3.3464203547086058, -3.4998212898024064, -3.5623204054932462]\n",
    "Vnn = [0.625, 0.625, 0.625]\n",
    "Total_Energy = [-0.973872591107656, -1.081053374584514, -1.1031409708106332]\n",
    "\n",
    "data = {\n",
    "    \"id\": [\"HF STO-1G\", \"HF STO-2G\", \"HF STO-3G\"],\n",
    "    \"electron repulsion\": Vee,\n",
    "    \"kinetic\": T,\n",
    "    \"nuclear-electron attraction\": Vne,\n",
    "    \"nuclear repulsion\": Vnn,\n",
    "    \"total energy\": Total_Energy\n",
    "}\n",
    "\n",
    "df = pd.DataFrame(data, index=data[\"id\"])\n",
    "df = df.drop(columns=[\"id\"])\n",
    "df.transpose()"
   ]
  },
  {
   "cell_type": "markdown",
   "metadata": {},
   "source": [
    "alpha dan coefficient untuk primitive gaussian dari Bapak"
   ]
  },
  {
   "cell_type": "code",
   "execution_count": 3,
   "metadata": {
    "code_folding": [
     0
    ]
   },
   "outputs": [
    {
     "data": {
      "text/html": [
       "<div>\n",
       "<style scoped>\n",
       "    .dataframe tbody tr th:only-of-type {\n",
       "        vertical-align: middle;\n",
       "    }\n",
       "\n",
       "    .dataframe tbody tr th {\n",
       "        vertical-align: top;\n",
       "    }\n",
       "\n",
       "    .dataframe thead th {\n",
       "        text-align: right;\n",
       "    }\n",
       "</style>\n",
       "<table border=\"1\" class=\"dataframe\">\n",
       "  <thead>\n",
       "    <tr style=\"text-align: right;\">\n",
       "      <th></th>\n",
       "      <th>HF STO-1G</th>\n",
       "      <th>HF STO-2G</th>\n",
       "      <th>HF STO-3G</th>\n",
       "    </tr>\n",
       "  </thead>\n",
       "  <tbody>\n",
       "    <tr>\n",
       "      <th>electron repulsion</th>\n",
       "      <td>0.563052</td>\n",
       "      <td>0.559324</td>\n",
       "      <td>0.554968</td>\n",
       "    </tr>\n",
       "    <tr>\n",
       "      <th>kinetic</th>\n",
       "      <td>0.764710</td>\n",
       "      <td>0.792349</td>\n",
       "      <td>0.796411</td>\n",
       "    </tr>\n",
       "    <tr>\n",
       "      <th>nuclear-electron attraction</th>\n",
       "      <td>-2.914572</td>\n",
       "      <td>-3.048552</td>\n",
       "      <td>-3.070143</td>\n",
       "    </tr>\n",
       "    <tr>\n",
       "      <th>nuclear repulsion</th>\n",
       "      <td>0.625000</td>\n",
       "      <td>0.625000</td>\n",
       "      <td>0.625000</td>\n",
       "    </tr>\n",
       "    <tr>\n",
       "      <th>total energy</th>\n",
       "      <td>-0.961810</td>\n",
       "      <td>-1.071879</td>\n",
       "      <td>-1.093764</td>\n",
       "    </tr>\n",
       "  </tbody>\n",
       "</table>\n",
       "</div>"
      ],
      "text/plain": [
       "                             HF STO-1G  HF STO-2G  HF STO-3G\n",
       "electron repulsion            0.563052   0.559324   0.554968\n",
       "kinetic                       0.764710   0.792349   0.796411\n",
       "nuclear-electron attraction  -2.914572  -3.048552  -3.070143\n",
       "nuclear repulsion             0.625000   0.625000   0.625000\n",
       "total energy                 -0.961810  -1.071879  -1.093764"
      ]
     },
     "execution_count": 3,
     "metadata": {},
     "output_type": "execute_result"
    }
   ],
   "source": [
    "# revisi HF STO-nG\n",
    "one_G = [0.5630522997284593, 0.764710102521208, -2.9145721801560507, 0.625, -0.9618097779063841]\n",
    "two_G = [0.5593235956604841, 0.7923492041848993, -3.0485516660843768, 0.625, -1.071878866238993]\n",
    "three_G = [0.5549681236521616, 0.7964105056578553, -3.0701425054056033, 0.625, -1.0937638760955863]\n",
    "index = [\"electron repulsion\", \"kinetic\", \"nuclear-electron attraction\", \"nuclear repulsion\", \"total energy\"]\n",
    "\n",
    "data = {\n",
    "    \"index\": index, \n",
    "    \"HF STO-1G\": one_G,\n",
    "    \"HF STO-2G\": two_G,\n",
    "    \"HF STO-3G\": three_G\n",
    "}\n",
    "\n",
    "df = pd.DataFrame(data, index=data[\"index\"])\n",
    "df = df.drop(columns=[\"index\"])\n",
    "df"
   ]
  },
  {
   "cell_type": "markdown",
   "metadata": {},
   "source": [
    "# 2. HF-STO dari paper Dewar\n",
    "\n",
    "Saya membuat versi python dari spreadsheet Sdr Fiqri"
   ]
  },
  {
   "cell_type": "markdown",
   "metadata": {},
   "source": [
    "# 3. STO-10G"
   ]
  },
  {
   "cell_type": "code",
   "execution_count": 4,
   "metadata": {
    "code_folding": [
     0
    ]
   },
   "outputs": [],
   "source": [
    "class primitive_gaussian():\n",
    "\n",
    "    def __init__(self, alpha, coeff, coordinates):\n",
    "        \n",
    "        self.alpha = alpha\n",
    "        self.coeff = coeff\n",
    "        self.coordinates = np.array(coordinates)\n",
    "        self.A = ( 2.0 * alpha / math.pi ) ** 0.75"
   ]
  },
  {
   "cell_type": "code",
   "execution_count": 5,
   "metadata": {
    "code_folding": [
     0
    ]
   },
   "outputs": [],
   "source": [
    "def overlap(molecule):\n",
    "    \n",
    "    nbasis = len(molecule)\n",
    "    \n",
    "    S = np.zeros([nbasis, nbasis])\n",
    "    \n",
    "    for i in range(nbasis):\n",
    "        for j in range(nbasis):\n",
    "            \n",
    "            nprimitives_i = len(molecule[i])\n",
    "            nprimitives_j = len(molecule[j])\n",
    "            \n",
    "            for k in range(nprimitives_i):\n",
    "                for l in range(nprimitives_j):\n",
    "                    \n",
    "                    N = molecule[i][k].A * molecule[j][l].A\n",
    "                    p = molecule[i][k].alpha + molecule[j][l].alpha\n",
    "                    q = molecule[i][k].alpha * molecule[j][l].alpha / p\n",
    "                    Q = molecule[i][k].coordinates - molecule[j][l].coordinates\n",
    "                    Q2 = np.dot(Q,Q)\n",
    "                    \n",
    "                    S[i,j] += N * molecule[i][k].coeff * molecule[j][l].coeff * math.exp(-q*Q2) * (math.pi/p)**(3/2) \n",
    "    \n",
    "    return S"
   ]
  },
  {
   "cell_type": "code",
   "execution_count": 6,
   "metadata": {
    "code_folding": [
     0
    ]
   },
   "outputs": [],
   "source": [
    "def kinetic(molecule):\n",
    "    \n",
    "    nbasis = len(molecule)\n",
    "    \n",
    "    T = np.zeros([nbasis, nbasis])\n",
    "    \n",
    "    for i in range(nbasis):\n",
    "        for j in range(nbasis):\n",
    "\n",
    "            nprimitives_i = len(molecule[i])\n",
    "            nprimitives_j = len(molecule[j])\n",
    "            \n",
    "            for k in range(nprimitives_i):\n",
    "                for l in range(nprimitives_j):\n",
    "\n",
    "                    N = molecule[i][k].A * molecule[j][l].A\n",
    "                    cacb = molecule[i][k].coeff * molecule[j][l].coeff\n",
    "                    \n",
    "                    p   = molecule[i][k].alpha + molecule[j][l].alpha\n",
    "                    P   = molecule[i][k].alpha*molecule[i][k].coordinates +  molecule[j][l].alpha*molecule[j][l].coordinates\n",
    "                    Pp  = P/p\n",
    "                    PG  = Pp - molecule[j][l].coordinates\n",
    "                    PGx2 = PG[0]*PG[0]\n",
    "                    PGy2 = PG[1]*PG[1]\n",
    "                    PGz2 = PG[2]*PG[2]\n",
    "\n",
    "                    q = molecule[i][k].alpha * molecule[j][l].alpha / p\n",
    "                    Q = molecule[i][k].coordinates - molecule[j][l].coordinates\n",
    "                    Q2 = np.dot(Q,Q)\n",
    "                \n",
    "                    s = math.exp(-q*Q2) * (math.pi/p)**(3/2) * N * cacb\n",
    "                    \n",
    "                    T[i,j] += 3.0 * molecule[j][l].alpha * s\n",
    "                    T[i,j] -= 2.0 * molecule[j][l].alpha * molecule[j][l].alpha * s * (PGx2 + 0.5/p)\n",
    "                    T[i,j] -= 2.0 * molecule[j][l].alpha * molecule[j][l].alpha * s * (PGy2 + 0.5/p)\n",
    "                    T[i,j] -= 2.0 * molecule[j][l].alpha * molecule[j][l].alpha * s * (PGz2 + 0.5/p)\n",
    "\n",
    "    return T       "
   ]
  },
  {
   "cell_type": "code",
   "execution_count": 7,
   "metadata": {
    "code_folding": [
     0,
     6
    ]
   },
   "outputs": [],
   "source": [
    "def boys(x,n):\n",
    "    if x == 0:\n",
    "        return 1.0/(2*n+1)\n",
    "    else:\n",
    "        return special.gammainc(n+0.5,x) * special.gamma(n+0.5) * (1.0/(2*x**(n+0.5)))\n",
    "    \n",
    "def electron_nuclear_attraction(molecule, Z):\n",
    "    \n",
    "    natoms = len(Z)\n",
    "    nbasis = len(molecule)   \n",
    "    \n",
    "    coordinates = []\n",
    "    for i in range(nbasis):\n",
    "        nprimitives_i = len(molecule[i])\n",
    "        for j in range(nprimitives_i):\n",
    "            coordinates.append(molecule[i][j].coordinates )\n",
    "\n",
    "    coordinates = np.array(coordinates)\n",
    "    coordinates = np.unique(coordinates, axis=0)\n",
    "    \n",
    "    V_ne = np.zeros([nbasis, nbasis])\n",
    " \n",
    "    for atom in range(natoms):\n",
    "        for i in range(nbasis):\n",
    "            for j in range(nbasis):\n",
    "\n",
    "                nprimitives_i = len(molecule[i])\n",
    "                nprimitives_j = len(molecule[j])\n",
    "            \n",
    "                for k in range(nprimitives_i):\n",
    "                    for l in range(nprimitives_j):\n",
    "\n",
    "                        N = molecule[i][k].A * molecule[j][l].A\n",
    "                        cacb = molecule[i][k].coeff * molecule[j][l].coeff\n",
    "                    \n",
    "                        p   = molecule[i][k].alpha + molecule[j][l].alpha\n",
    "                        P   = molecule[i][k].alpha*molecule[i][k].coordinates +  molecule[j][l].alpha*molecule[j][l].coordinates\n",
    "                        Pp  = P/p\n",
    "                        \n",
    "                        PG  = P/p - coordinates[atom]\n",
    "                        \n",
    "                        PG2 = np.dot(PG,PG)\n",
    "\n",
    "                        q = molecule[i][k].alpha * molecule[j][l].alpha / p\n",
    "                        Q = molecule[i][k].coordinates - molecule[j][l].coordinates\n",
    "                        Q2 = np.dot(Q,Q)\n",
    "                    \n",
    "                        V_ne[i,j] +=  N * cacb * -Z[atom] * (2.0*math.pi/p) * math.exp(-q*Q2) * boys(p*PG2,0)                                     \n",
    "                    \n",
    "\n",
    "    return V_ne           "
   ]
  },
  {
   "cell_type": "code",
   "execution_count": 8,
   "metadata": {
    "code_folding": [
     0
    ]
   },
   "outputs": [],
   "source": [
    "def electron_electron_repulsion(molecule):\n",
    "    \n",
    "    nbasis = len(molecule)   \n",
    "    \n",
    "    V_ee = np.zeros([nbasis, nbasis, nbasis, nbasis])\n",
    " \n",
    "    for i in range(nbasis):\n",
    "        for j in range(nbasis):\n",
    "            for k in range(nbasis):\n",
    "                for l in range(nbasis):\n",
    "\n",
    "                    nprimitives_i = len(molecule[i])\n",
    "                    nprimitives_j = len(molecule[j])\n",
    "                    nprimitives_k = len(molecule[k])\n",
    "                    nprimitives_l = len(molecule[l])\n",
    "            \n",
    "                    for ii in range(nprimitives_i):\n",
    "                        for jj in range(nprimitives_j):\n",
    "                            for kk in range(nprimitives_k):\n",
    "                                for ll in range(nprimitives_l):\n",
    "\n",
    "                                    N        = molecule[i][ii].A * molecule[j][jj].A * molecule[k][kk].A * molecule[l][ll].A\n",
    "                                    cicjckcl = molecule[i][ii].coeff * molecule[j][jj].coeff * \\\n",
    "                                               molecule[k][kk].coeff * molecule[l][ll].coeff\n",
    "                    \n",
    "                                    pij = molecule[i][ii].alpha + molecule[j][jj].alpha\n",
    "                                    pkl = molecule[k][kk].alpha + molecule[l][ll].alpha\n",
    "                         \n",
    "                                    Pij = molecule[i][ii].alpha*molecule[i][ii].coordinates +\\\n",
    "                                          molecule[j][jj].alpha*molecule[j][jj].coordinates\n",
    "                                    Pkl = molecule[k][kk].alpha*molecule[k][kk].coordinates +\\\n",
    "                                          molecule[l][ll].alpha*molecule[l][ll].coordinates\n",
    "                            \n",
    "                                    Ppij = Pij/pij\n",
    "                                    Ppkl = Pkl/pkl\n",
    "                                    \n",
    "                                    PpijPpkl  = Ppij - Ppkl\n",
    "                                    PpijPpkl2 = np.dot(PpijPpkl,PpijPpkl)\n",
    "                                    denom     = 1.0/pij + 1.0/pkl\n",
    "                            \n",
    "                                    qij = molecule[i][ii].alpha * molecule[j][jj].alpha / pij\n",
    "                                    qkl = molecule[k][kk].alpha * molecule[l][ll].alpha / pkl\n",
    "\n",
    "                                    Qij = molecule[i][ii].coordinates - molecule[j][jj].coordinates\n",
    "                                    Qkl = molecule[k][kk].coordinates - molecule[l][ll].coordinates\n",
    "                                    \n",
    "                                    Q2ij = np.dot(Qij,Qij)\n",
    "                                    Q2kl = np.dot(Qkl,Qkl)\n",
    "                                    \n",
    "                                    term1 = 2.0*math.pi*math.pi/(pij*pkl)\n",
    "                                    term2 = math.sqrt(  math.pi/(pij+pkl) )\n",
    "                                    term3 = math.exp(-qij*Q2ij) \n",
    "                                    term4 = math.exp(-qkl*Q2kl)\n",
    "                                                      \n",
    "                                    V_ee[i,j,k,l] += N * cicjckcl * term1 * term2 * term3 * term4 * boys(PpijPpkl2/denom,0)  # 3 more                               \n",
    "                    \n",
    "\n",
    "    return V_ee           "
   ]
  },
  {
   "cell_type": "code",
   "execution_count": 9,
   "metadata": {
    "code_folding": [
     0
    ]
   },
   "outputs": [],
   "source": [
    "def nuclear_nuclear_repulsion_energy(atom_coords, zlist):\n",
    "    \n",
    "    assert (len(atom_coords) == len(zlist))\n",
    "    natoms = len(zlist)\n",
    "    E_NN = 0\n",
    "    for i in range(natoms):\n",
    "        Zi = zlist[i]\n",
    "        for j in range(natoms):\n",
    "            if j > i:\n",
    "                Zj = zlist[j]\n",
    "                Rijx = atom_coords[i][0] - atom_coords[j][0]\n",
    "                Rijy = atom_coords[i][1] - atom_coords[j][1]\n",
    "                Rijz = atom_coords[i][2] - atom_coords[j][2]\n",
    "                Rijx_squared = Rijx*Rijx\n",
    "                Rijy_squared = Rijy*Rijy\n",
    "                Rijz_squared = Rijz*Rijz             \n",
    "                Rij = math.sqrt(Rijx_squared + Rijy_squared + Rijz_squared)      \n",
    "                E_NN += (Zi*Zj)/Rij\n",
    "                \n",
    "    return E_NN    "
   ]
  },
  {
   "cell_type": "code",
   "execution_count": 10,
   "metadata": {
    "code_folding": [
     0,
     1,
     14,
     37,
     47
    ]
   },
   "outputs": [],
   "source": [
    "# scf\n",
    "def compute_G(density_matrix, Vee):\n",
    "    nbasis_functions = density_matrix.shape[0]\n",
    "    G = np.zeros((nbasis_functions, nbasis_functions))\n",
    "    for i in range(nbasis_functions):\n",
    "        for j in range(nbasis_functions):\n",
    "            for k in range(nbasis_functions):\n",
    "                for l in range(nbasis_functions):\n",
    "                    density = density_matrix[k,l]\n",
    "                    J = Vee[i,j,k,l]\n",
    "                    K = Vee[i,l,k,j]\n",
    "                    G[i,j] += density*(J-0.5*K)\n",
    "    return G\n",
    "\n",
    "def compute_density_matrix(mos):\n",
    "    nbasis_functions = mos.shape[0]\n",
    "    density_matrix = np.zeros((nbasis_functions, nbasis_functions))\n",
    "    # P = occ*CC_dagger\n",
    "    occupation = 2.0\n",
    "    for i in range(nbasis_functions):\n",
    "        for j in range(nbasis_functions):\n",
    "            # mo is (natomic_orbtials x nMOs)\n",
    "            for oo in range(number_occupied_orbitals):\n",
    "                C = mos[i, oo]\n",
    "                C_dagger = mos[j, oo]\n",
    "                density_matrix[i,j] += occupation * C * C_dagger \n",
    "    return density_matrix\n",
    "\n",
    "def compute_electronic_energy_expectation_value(density_matrix, T, Vne, G):\n",
    "    Hcore = T + Vne\n",
    "    Hcore_ = 0\n",
    "    electronic_energy = 0.0\n",
    "    G_ = 0\n",
    "    T_ = 0\n",
    "    Vne_ = 0\n",
    "    nbasis_functions = density_matrix.shape[0]\n",
    "    for i in range(nbasis_functions):\n",
    "        for j in range(nbasis_functions):\n",
    "            electronic_energy += density_matrix[i,j] * (Hcore[i,j] + 0.5*G[i,j])\n",
    "            Hcore_ += density_matrix[i,j] * (Hcore[i,j])\n",
    "            G_ += density_matrix[i,j] * 0.5*G[i,j]\n",
    "            T_ += density_matrix[i,j] * T[i,j]\n",
    "            Vne_ += density_matrix[i,j] * Vne[i,j]\n",
    "#     print(G_, T_, Vne_)\n",
    "            \n",
    "    return electronic_energy\n",
    "\n",
    "def scf_cycle(molecular_terms, scf_parameters, molecule):\n",
    "    \n",
    "    S, T, Vne, G = molecular_terms\n",
    "    tolerance, max_scf_steps = scf_parameters\n",
    "    electronic_energy = 0.0\n",
    "    nbasis_functions = len(molecule)\n",
    "    density_matrix = np.zeros((nbasis_functions, nbasis_functions))\n",
    "    \n",
    "    # 1. Enter into the SCF cycles\n",
    "    for scf_step in range(max_scf_steps):\n",
    "        \n",
    "        electronic_energy_old = electronic_energy\n",
    "        \n",
    "        # 2. Compute the 2 electron term, and add it to the 1 electron term\n",
    "        G = compute_G(density_matrix, Vee)\n",
    "        \n",
    "        # 3. Form F, make S unit, then get eigenvalues and eigenvectors - transform eigenvectors back (w.o unitS)\n",
    "        F = T + Vne + G\n",
    "        # S^{-1/2}\n",
    "        S_inverse = linalg.inv(S)\n",
    "        S_inverse_sqrt = linalg.sqrtm(S_inverse)\n",
    "        # S^{-1/2} F S^{-1/2}\n",
    "        F_unitS = np.dot(S_inverse_sqrt, np.dot(F, S_inverse_sqrt))\n",
    "        eigenvalues, eigenvectors = linalg.eigh(F_unitS)\n",
    "        mos = np.dot(S_inverse_sqrt, eigenvectors)\n",
    "\n",
    "        # 4. Form new density matrix using MOs\n",
    "        density_matrix = compute_density_matrix(mos)\n",
    "        \n",
    "        # 5. Compute electronic_energy expectation value\n",
    "        electronic_energy = compute_electronic_energy_expectation_value(density_matrix, T, Vne, G)\n",
    "        \n",
    "        # 6. Check convergence\n",
    "        if abs(electronic_energy-electronic_energy_old) < tolerance:\n",
    "            return electronic_energy\n",
    "    \n",
    "    print(\"Warning: Convergence not met\")\n",
    "    return electronic_energy"
   ]
  },
  {
   "cell_type": "code",
   "execution_count": 11,
   "metadata": {
    "code_folding": []
   },
   "outputs": [],
   "source": [
    "# create many H2 molecules\n",
    "distances = np.arange(0.5,  6.1, 0.1)  # in unit = bohr (a.u of position)\n",
    "# distances = [1.6]\n",
    "molecule_coordinates = [ [[0.0, 0.0, 0.0], [0.0, 0.0, distance]] for distance in distances]"
   ]
  },
  {
   "cell_type": "code",
   "execution_count": 12,
   "metadata": {
    "code_folding": [
     0
    ],
    "scrolled": true
   },
   "outputs": [],
   "source": [
    "# prep STO-3G, STO-10G, and STO\n",
    "coeff = [ 0.00775, 0.20267, 0.41300, 0.31252, 0.14249, 0.04899, 0.01380, 0.00318, 0.00058, 0.00007]\n",
    "alpha = [0.0285649, 0.0812406, 0.190537, 0.463925, 1.2025518, 3.379649, 10.60720, 38.65163, 173.5822, 1170.498]\n",
    "\n",
    "zeta = 1\n",
    "x = np.linspace(-5,5,num=1000)\n",
    "r = abs(x)\n",
    "\n",
    "STO_10G = 0\n",
    "for i, j in zip(alpha, coeff):\n",
    "    STO_10G += (j*(2*i/np.pi)**(0.75)*np.exp(-i*r**2))\n",
    "\n",
    "alpha = [0.3425250914E+01, 0.6239137298E+00, 0.1688554040E+00]\n",
    "coeff = [0.1543289673E+00, 0.5353281423E+00, 0.4446345422E+00]\n",
    "STO_3G = 0\n",
    "for i, j in zip(alpha, coeff):\n",
    "    STO_3G += (j*(2*i/np.pi)**(0.75)*np.exp(-i*r**2))\n",
    "    \n",
    "STO = ((zeta**3)/np.pi)**0.5 * np.exp(-zeta*r)\n",
    "STO_ = ((1.24**3)/np.pi)**0.5 * np.exp(-1.24*r)"
   ]
  },
  {
   "cell_type": "code",
   "execution_count": 13,
   "metadata": {
    "code_folding": [
     1
    ]
   },
   "outputs": [],
   "source": [
    "total_energies1 = []\n",
    "for molecule_coordinate in molecule_coordinates:\n",
    "    H1_pg1a = primitive_gaussian(0.28294212, 1, molecule_coordinate[0])\n",
    "    H2_pg1a = primitive_gaussian(0.28294212, 1, molecule_coordinate[1])\n",
    "    number_occupied_orbitals = 1\n",
    "    zlist = [1.0, 1.0]\n",
    "    atom_coords = [np.array(molecule_coordinate[0]), np.array(molecule_coordinate[1])]\n",
    "    H1_1s = [H1_pg1a]\n",
    "    H2_1s = [H2_pg1a]\n",
    "    molecule = [H1_1s, H2_1s]\n",
    "    S = overlap(molecule)\n",
    "    T = kinetic(molecule)\n",
    "    Vne = electron_nuclear_attraction(molecule, [1.0, 1.0])\n",
    "    Vee = electron_electron_repulsion(molecule)\n",
    "    Enn = nuclear_nuclear_repulsion_energy(atom_coords, zlist)\n",
    "    molecular_terms = [S, T, Vne, Vee]\n",
    "    scf_parameters = [1e-5, 20]\n",
    "    electronic_energy = scf_cycle(molecular_terms, scf_parameters, molecule)\n",
    "    total_energy = electronic_energy + Enn\n",
    "#     print(\"Vnn\", Enn, \"\\nTotal Energy\", total_energy)\n",
    "    total_energies1.append(total_energy)"
   ]
  },
  {
   "cell_type": "code",
   "execution_count": 14,
   "metadata": {
    "code_folding": [
     1
    ]
   },
   "outputs": [],
   "source": [
    "total_energies2 = []\n",
    "for molecule_coordinate in molecule_coordinates:\n",
    "    H1_pg1a = primitive_gaussian(0.201527, 0.82123, molecule_coordinate[0])\n",
    "    H1_pg1b = primitive_gaussian(1.33248, 0.27441, molecule_coordinate[0])\n",
    "    H2_pg1a = primitive_gaussian(0.201527, 0.82123, molecule_coordinate[1])\n",
    "    H2_pg1b = primitive_gaussian(1.33248, 0.27441, molecule_coordinate[1])\n",
    "    number_occupied_orbitals = 1\n",
    "    zlist = [1.0, 1.0]\n",
    "    atom_coords = [np.array(molecule_coordinate[0]), np.array(molecule_coordinate[1])]\n",
    "    H1_1s = [H1_pg1a, H1_pg1b]\n",
    "    H2_1s = [H2_pg1a, H2_pg1b]\n",
    "    molecule = [H1_1s, H2_1s]\n",
    "    S = overlap(molecule)\n",
    "    T = kinetic(molecule)\n",
    "    Vne = electron_nuclear_attraction(molecule, [1.0, 1.0])\n",
    "    Vee = electron_electron_repulsion(molecule)\n",
    "    Enn = nuclear_nuclear_repulsion_energy(atom_coords, zlist)\n",
    "    molecular_terms = [S, T, Vne, Vee]\n",
    "    scf_parameters = [1e-5, 20]\n",
    "    electronic_energy = scf_cycle(molecular_terms, scf_parameters, molecule)\n",
    "    total_energy = electronic_energy + Enn\n",
    "#     print(\"Vnn\", Enn, \"\\nTotal Energy\", total_energy)\n",
    "    total_energies2.append(total_energy)"
   ]
  },
  {
   "cell_type": "code",
   "execution_count": 15,
   "metadata": {
    "code_folding": [
     1
    ]
   },
   "outputs": [],
   "source": [
    "total_energies3 = []\n",
    "for molecule_coordinate in molecule_coordinates:\n",
    "    H1_pg1a = primitive_gaussian(0.151374, 0.64767, molecule_coordinate[0])\n",
    "    H1_pg1b = primitive_gaussian(0.681277, 0.40789, molecule_coordinate[0])\n",
    "    H1_pg1c = primitive_gaussian(4.500380, 0.07048, molecule_coordinate[0])\n",
    "    H2_pg1a = primitive_gaussian(0.151374, 0.64767, molecule_coordinate[1])\n",
    "    H2_pg1b = primitive_gaussian(0.681277, 0.40789, molecule_coordinate[1])\n",
    "    H2_pg1c = primitive_gaussian(4.500380, 0.07048, molecule_coordinate[1])\n",
    "    number_occupied_orbitals = 1\n",
    "    zlist = [1.0, 1.0]\n",
    "    atom_coords = [np.array(molecule_coordinate[0]), np.array(molecule_coordinate[1])]\n",
    "    H1_1s = [H1_pg1a, H1_pg1b, H1_pg1c]\n",
    "    H2_1s = [H2_pg1a, H2_pg1b, H2_pg1c]\n",
    "    molecule = [H1_1s, H2_1s]\n",
    "    S = overlap(molecule)\n",
    "    T = kinetic(molecule)\n",
    "    Vne = electron_nuclear_attraction(molecule, [1.0, 1.0])\n",
    "    Vee = electron_electron_repulsion(molecule)\n",
    "    Enn = nuclear_nuclear_repulsion_energy(atom_coords, zlist)\n",
    "    molecular_terms = [S, T, Vne, Vee]\n",
    "    scf_parameters = [1e-5, 20]\n",
    "    electronic_energy = scf_cycle(molecular_terms, scf_parameters, molecule)\n",
    "    total_energy = electronic_energy + Enn\n",
    "#     print(\"Vnn\", Enn, \"\\nTotal Energy\", total_energy)\n",
    "    total_energies3.append(total_energy)"
   ]
  },
  {
   "cell_type": "code",
   "execution_count": 16,
   "metadata": {
    "code_folding": [
     1
    ]
   },
   "outputs": [],
   "source": [
    "total_energies10 = []\n",
    "for molecule_coordinate in molecule_coordinates:\n",
    "    H1_pg1a = primitive_gaussian(0.0285649, 0.00775, molecule_coordinate[0])\n",
    "    H1_pg1b = primitive_gaussian(0.0812406, 0.20267, molecule_coordinate[0])\n",
    "    H1_pg1c = primitive_gaussian(0.190537, 0.41300, molecule_coordinate[0])\n",
    "    H1_pg1d = primitive_gaussian(0.463925, 0.31252, molecule_coordinate[0])\n",
    "    H1_pg1e = primitive_gaussian(1.2025518, 0.14249, molecule_coordinate[0])\n",
    "    H1_pg1f = primitive_gaussian(3.379649, 0.04899, molecule_coordinate[0])\n",
    "    H1_pg1g = primitive_gaussian(10.60720, 0.01380, molecule_coordinate[0])\n",
    "    H1_pg1h = primitive_gaussian(38.65163, 0.00318, molecule_coordinate[0])\n",
    "    H1_pg1i = primitive_gaussian(173.5822, 0.00058, molecule_coordinate[0])\n",
    "    H1_pg1j = primitive_gaussian(1170.498, 0.00007, molecule_coordinate[0])\n",
    "    \n",
    "    H2_pg1a = primitive_gaussian(0.0285649, 0.00775, molecule_coordinate[1])\n",
    "    H2_pg1b = primitive_gaussian(0.0812406, 0.20267, molecule_coordinate[1])\n",
    "    H2_pg1c = primitive_gaussian(0.190537, 0.41300, molecule_coordinate[1])\n",
    "    H2_pg1d = primitive_gaussian(0.463925, 0.31252, molecule_coordinate[1])\n",
    "    H2_pg1e = primitive_gaussian(1.2025518, 0.14249, molecule_coordinate[1])\n",
    "    H2_pg1f = primitive_gaussian(3.379649, 0.04899, molecule_coordinate[1])\n",
    "    H2_pg1g = primitive_gaussian(10.60720, 0.01380, molecule_coordinate[1])\n",
    "    H2_pg1h = primitive_gaussian(38.65163, 0.00318, molecule_coordinate[1])\n",
    "    H2_pg1i = primitive_gaussian(173.5822, 0.00058, molecule_coordinate[1])\n",
    "    H2_pg1j = primitive_gaussian(1170.498, 0.00007, molecule_coordinate[1])\n",
    "    number_occupied_orbitals = 1\n",
    "    zlist = [1.0, 1.0]\n",
    "    atom_coords = [np.array(molecule_coordinate[0]), np.array(molecule_coordinate[1])]\n",
    "    H1_1s = [H1_pg1a, H1_pg1b, H1_pg1c, H1_pg1d, H1_pg1e, H1_pg1f, H1_pg1g, H1_pg1h, H1_pg1i, H1_pg1j]\n",
    "    H2_1s = [H2_pg1a, H2_pg1b, H2_pg1c, H2_pg1d, H2_pg1e, H2_pg1f, H2_pg1g, H2_pg1h, H2_pg1i, H2_pg1j]\n",
    "    molecule = [H1_1s, H2_1s]\n",
    "    S = overlap(molecule)\n",
    "    T = kinetic(molecule)\n",
    "    Vne = electron_nuclear_attraction(molecule, [1.0, 1.0])\n",
    "    Vee = electron_electron_repulsion(molecule)\n",
    "    Enn = nuclear_nuclear_repulsion_energy(atom_coords, zlist)\n",
    "    molecular_terms = [S, T, Vne, Vee]\n",
    "    scf_parameters = [1e-5, 20]\n",
    "    electronic_energy = scf_cycle(molecular_terms, scf_parameters, molecule)\n",
    "    total_energy = electronic_energy + Enn\n",
    "    total_energies10.append(total_energy) "
   ]
  },
  {
   "cell_type": "code",
   "execution_count": 17,
   "metadata": {
    "code_folding": [
     0
    ]
   },
   "outputs": [
    {
     "data": {
      "image/png": "[encoded data removed]",
      "text/plain": [
       "<Figure size 1296x360 with 3 Axes>"
      ]
     },
     "metadata": {
      "needs_background": "light"
     },
     "output_type": "display_data"
    }
   ],
   "source": [
    "# plot STO-10G and STO\n",
    "plt.figure(figsize=(18,5))\n",
    "plt.subplot(131)\n",
    "plt.plot(x, STO_10G); plt.grid(); plt.title(\"STO-10G\")\n",
    "plt.subplot(132)\n",
    "plt.plot(x, STO, '-r'); plt.grid(); plt.title(\"STO\")\n",
    "plt.subplot(133)\n",
    "plt.plot(x, STO_3G, '-g'); plt.grid(); plt.title(\"STO-3G Basis Set Exchange\")\n",
    "plt.show()"
   ]
  },
  {
   "cell_type": "code",
   "execution_count": 18,
   "metadata": {
    "code_folding": [
     0
    ]
   },
   "outputs": [
    {
     "data": {
      "image/png": "[encoded data removed]",
      "text/plain": [
       "<Figure size 720x576 with 1 Axes>"
      ]
     },
     "metadata": {
      "needs_background": "light"
     },
     "output_type": "display_data"
    }
   ],
   "source": [
    "# plot h2 total energy for every bond distance\n",
    "plt.figure(figsize=(10,8))\n",
    "plt.xlabel(\"Bond distance, a.u\")\n",
    "plt.ylabel(\"Total Energy, a.u\")\n",
    "plt.plot(np.array(distances), total_energies1, label=f\"STO-1G, E = {round(min(total_energies1), 6)}, at: {round(molecule_coordinates[total_energies1.index(min(total_energies1))][1][-1], 1)} a.u\")\n",
    "plt.plot(np.array(distances), total_energies2, label=f\"STO-2G, E = {round(min(total_energies2), 6)}, at: {round(molecule_coordinates[total_energies2.index(min(total_energies2))][1][-1], 1)} a.u\")\n",
    "plt.plot(np.array(distances), total_energies3, label=f\"STO-3G, E = {round(min(total_energies3), 6)}, at: {round(molecule_coordinates[total_energies3.index(min(total_energies3))][1][-1], 1)} a.u\")\n",
    "plt.plot(np.array(distances), total_energies10, label=f\"STO-10G, E = {round(min(total_energies10), 6)}, at: {round(molecule_coordinates[total_energies10.index(min(total_energies10))][1][-1], 1)} a.u\")\n",
    "plt.xlim(0.5, 6); plt.legend(); plt.grid()\n",
    "plt.show()"
   ]
  },
  {
   "cell_type": "code",
   "execution_count": null,
   "metadata": {},
   "outputs": [],
   "source": []
  }
 ],
 "metadata": {
  "kernelspec": {
   "display_name": "Python 3 (ipykernel)",
   "language": "python",
   "name": "python3"
  },
  "language_info": {
   "codemirror_mode": {
    "name": "ipython",
    "version": 3
   },
   "file_extension": ".py",
   "mimetype": "text/x-python",
   "name": "python",
   "nbconvert_exporter": "python",
   "pygments_lexer": "ipython3",
   "version": "3.10.4"
  }
 },
 "nbformat": 4,
 "nbformat_minor": 4
}
